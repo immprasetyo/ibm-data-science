{
  "cells": [
    {
      "cell_type": "markdown",
      "metadata": {
        "id": "view-in-github",
        "colab_type": "text"
      },
      "source": [
        "<a href=\"https://colab.research.google.com/github/immprasetyo/ibm-data-science/blob/main/eda_sqllite.ipynb\" target=\"_parent\"><img src=\"https://colab.research.google.com/assets/colab-badge.svg\" alt=\"Open In Colab\"/></a>"
      ]
    },
    {
      "cell_type": "markdown",
      "metadata": {
        "id": "Wle7ez0zIeYa"
      },
      "source": [
        "<p style=\"text-align:center\">\n",
        "    <a href=\"https://skills.network/?utm_medium=Exinfluencer&utm_source=Exinfluencer&utm_content=000026UJ&utm_term=10006555&utm_id=NA-SkillsNetwork-Channel-SkillsNetworkCoursesIBMDS0321ENSkillsNetwork26802033-2022-01-01\" target=\"_blank\">\n",
        "    <img src=\"https://cf-courses-data.s3.us.cloud-object-storage.appdomain.cloud/assets/logos/SN_web_lightmode.png\" width=\"200\" alt=\"Skills Network Logo\"  />\n",
        "    </a>\n",
        "</p>\n",
        "\n",
        "<h1 align=center><font size = 5>Assignment: SQL Notebook for Peer Assignment</font></h1>\n",
        "\n",
        "## Introduction\n",
        "\n",
        "Using this Python notebook you will:\n",
        "\n",
        "1.  Understand the SpaceX Dataset\n",
        "2.  Load the dataset  into the corresponding table in a DB2 database\n",
        "3.  Execute SQL queries to answer assignment questions\n"
      ]
    },
    {
      "cell_type": "markdown",
      "metadata": {
        "id": "b_cCOTGYIeYd"
      },
      "source": [
        "## Overview of the Dataset\n",
        "\n",
        "SpaceX has gained worldwide attention for a series of historic milestones.\n",
        "\n",
        "It is the only private company ever to return a spacecraft from low-earth orbit, which it first accomplished in December 2010.\n",
        "SpaceX advertises Falcon 9 rocket launches on its website with a cost of 62 million dollars wheras other providers cost upward of 165 million dollars each, much of the savings is because SpaceX can reuse the first stage.\n",
        "\n",
        "Therefore if we can determine if the first stage will land, we can determine the cost of a launch.\n",
        "\n",
        "This information can be used if an alternate company wants to bid against SpaceX for a rocket launch.\n",
        "\n",
        "This dataset includes a record for each payload carried during a SpaceX mission into outer space.\n"
      ]
    },
    {
      "cell_type": "markdown",
      "metadata": {
        "id": "DCaok8ZgIeYd"
      },
      "source": [
        "### Download the datasets\n",
        "\n",
        "This assignment requires you to load the spacex dataset.\n",
        "\n",
        "In many cases the dataset to be analyzed is available as a .CSV (comma separated values) file, perhaps on the internet. Click on the link below to download and save the dataset (.CSV file):\n",
        "\n",
        "<a href=\"https://cf-courses-data.s3.us.cloud-object-storage.appdomain.cloud/IBM-DS0321EN-SkillsNetwork/labs/module_2/data/Spacex.csv?utm_medium=Exinfluencer&utm_source=Exinfluencer&utm_content=000026UJ&utm_term=10006555&utm_id=NA-SkillsNetwork-Channel-SkillsNetworkCoursesIBMDS0321ENSkillsNetwork26802033-2022-01-01\" target=\"_blank\">Spacex DataSet</a>\n"
      ]
    },
    {
      "cell_type": "markdown",
      "metadata": {
        "id": "Oipon_clIeYe"
      },
      "source": [
        "### Store the dataset in database table\n",
        "\n",
        "**it is highly recommended to manually load the table using the database console LOAD tool in DB2**.\n",
        "\n",
        "<img src = \"https://cf-courses-data.s3.us.cloud-object-storage.appdomain.cloud/IBM-DS0321EN-SkillsNetwork/labs/module_2/images/spacexload.png\">\n",
        "\n",
        "Now open the DB2 console, open the LOAD tool, Select / Drag the .CSV file for the  dataset, Next create a New Table, and then follow the steps on-screen instructions to load the data. Name the new table as follows:\n",
        "\n",
        "**SPACEXDATASET**\n",
        "\n",
        "**Follow these steps while using old DB2 UI which is having Open Console Screen**\n",
        "\n",
        "**Note:While loading Spacex dataset, ensure that detect datatypes is disabled. Later click on the pencil icon(edit option).**\n",
        "\n",
        "1.  Change the Date Format by manually typing DD-MM-YYYY and timestamp format as DD-MM-YYYY HH\\:MM:SS\n",
        "\n",
        "2.  Change the PAYLOAD_MASS\\_\\_KG\\_  datatype  to INTEGER.\n",
        "\n",
        "<img src = \"https://cf-courses-data.s3.us.cloud-object-storage.appdomain.cloud/IBM-DS0321EN-SkillsNetwork/labs/module_2/images/spacexload2.png\">\n"
      ]
    },
    {
      "cell_type": "markdown",
      "metadata": {
        "id": "frpooXzQIeYf"
      },
      "source": [
        "**Changes to be considered when having DB2 instance with the new UI having Go to UI screen**\n",
        "\n",
        "*   Refer to this insruction in this <a href=\"https://cf-courses-data.s3.us.cloud-object-storage.appdomain.cloud/IBMDeveloperSkillsNetwork-DB0201EN-SkillsNetwork/labs/Labs_Coursera_V5/labs/Lab%20-%20Sign%20up%20for%20IBM%20Cloud%20-%20Create%20Db2%20service%20instance%20-%20Get%20started%20with%20the%20Db2%20console/instructional-labs.md.html?utm_medium=Exinfluencer&utm_source=Exinfluencer&utm_content=000026UJ&utm_term=10006555&utm_id=NA-SkillsNetwork-Channel-SkillsNetworkCoursesIBMDS0321ENSkillsNetwork26802033-2022-01-01\">link</a> for viewing  the new  Go to UI screen.\n",
        "\n",
        "*   Later click on **Data link (below SQL)**  in the Go to UI screen  and click on **Load Data** tab.\n",
        "\n",
        "*   Later browse for the downloaded SpaceX file\n",
        "\n",
        "<img src=\"https://cf-courses-data.s3.us.cloud-object-storage.appdomain.cloud/IBM-DS0321EN-SkillsNetwork/labs/module_2/images/browsefile.png\" width=\"800\"/>\n",
        "\n",
        "*   Once done select the schema andload the file.\n",
        "\n",
        " <img src=\"https://cf-courses-data.s3.us.cloud-object-storage.appdomain.cloud/IBM-DS0321EN-SkillsNetwork/labs/module_2/images/spacexload3.png\" width=\"800\"/>\n"
      ]
    },
    {
      "cell_type": "code",
      "source": [
        "#!pip freeze"
      ],
      "metadata": {
        "id": "JNHgGsC8I3bW"
      },
      "execution_count": null,
      "outputs": []
    },
    {
      "cell_type": "code",
      "source": [
        "import pandas as pd\n",
        "import sqlalchemy\n",
        "import sqlite3"
      ],
      "metadata": {
        "id": "EncmHJAHKbWp"
      },
      "execution_count": null,
      "outputs": []
    },
    {
      "cell_type": "markdown",
      "metadata": {
        "id": "Y3Y3cc-ZIeYi"
      },
      "source": [
        "### Connect to the database\n",
        "\n",
        "Let us first load the SQL extension and establish a connection with the database\n"
      ]
    },
    {
      "cell_type": "code",
      "execution_count": null,
      "metadata": {
        "id": "rTGSgleaIeYi"
      },
      "outputs": [],
      "source": [
        "%load_ext sql"
      ]
    },
    {
      "cell_type": "code",
      "execution_count": null,
      "metadata": {
        "id": "m1FqIU1BIeYi"
      },
      "outputs": [],
      "source": [
        "con = sqlite3.connect('db1.db')\n",
        "cur = con.cursor()"
      ]
    },
    {
      "cell_type": "code",
      "execution_count": null,
      "metadata": {
        "colab": {
          "base_uri": "https://localhost:8080/",
          "height": 36
        },
        "id": "EpWPqV8TIeYj",
        "outputId": "849bb81d-95a2-4eae-93cd-446931b3e0d4"
      },
      "outputs": [
        {
          "output_type": "execute_result",
          "data": {
            "text/plain": [
              "'Connected: @db1.db'"
            ],
            "application/vnd.google.colaboratory.intrinsic+json": {
              "type": "string"
            }
          },
          "metadata": {},
          "execution_count": 6
        }
      ],
      "source": [
        "%sql sqlite:///db1.db"
      ]
    },
    {
      "cell_type": "code",
      "execution_count": null,
      "metadata": {
        "colab": {
          "base_uri": "https://localhost:8080/"
        },
        "id": "9BzjqOc9IeYk",
        "outputId": "53bd9d48-338c-4833-a65a-6d1b42f0a361"
      },
      "outputs": [
        {
          "output_type": "stream",
          "name": "stderr",
          "text": [
            "/usr/local/lib/python3.8/dist-packages/pandas/core/generic.py:2872: UserWarning: The spaces in these column names will not be changed. In pandas versions < 0.14, spaces were converted to underscores.\n",
            "  sql.to_sql(\n"
          ]
        }
      ],
      "source": [
        "df = pd.read_csv('https://cf-courses-data.s3.us.cloud-object-storage.appdomain.cloud/IBM-DS0321EN-SkillsNetwork/labs/module_2/data/Spacex.csv')\n",
        "df.to_sql('SPACEXTBL', con, if_exists = 'replace', index = False, method = 'multi')"
      ]
    },
    {
      "cell_type": "markdown",
      "metadata": {
        "id": "-Du1gbsRIeYk"
      },
      "source": [
        "## Tasks\n",
        "\n",
        "Now write and execute SQL queries to solve the assignment tasks.\n",
        "\n",
        "**Note: If the column names are in mixed case enclose it in double quotes\n",
        "For Example \"Landing_Outcome\"**\n",
        "\n",
        "### Task 1\n",
        "\n",
        "##### Display the names of the unique launch sites  in the space mission\n"
      ]
    },
    {
      "cell_type": "code",
      "execution_count": null,
      "metadata": {
        "colab": {
          "base_uri": "https://localhost:8080/"
        },
        "id": "m6v8awtRIeYl",
        "outputId": "83f06b09-6b94-4826-8381-6c126b5f6e54"
      },
      "outputs": [
        {
          "output_type": "stream",
          "name": "stdout",
          "text": [
            "('CCAFS LC-40',)\n",
            "('VAFB SLC-4E',)\n",
            "('KSC LC-39A',)\n",
            "('CCAFS SLC-40',)\n"
          ]
        }
      ],
      "source": [
        "query = \"\"\"\n",
        "    SELECT DISTINCT launch_site\n",
        "    FROM spacextbl\n",
        "    \"\"\"\n",
        "\n",
        "cur.execute(query)\n",
        "items = cur.fetchall()\n",
        "\n",
        "for i in items:\n",
        "    print(i)"
      ]
    },
    {
      "cell_type": "markdown",
      "metadata": {
        "id": "SKgMczJ4IeYl"
      },
      "source": [
        "### Task 2\n",
        "\n",
        "##### Display 5 records where launch sites begin with the string 'CCA'\n"
      ]
    },
    {
      "cell_type": "code",
      "execution_count": null,
      "metadata": {
        "colab": {
          "base_uri": "https://localhost:8080/"
        },
        "id": "gtK_usRzIeYl",
        "outputId": "1a06e8fe-0a4c-46d1-e325-2777ed42faba"
      },
      "outputs": [
        {
          "output_type": "stream",
          "name": "stdout",
          "text": [
            "('04-06-2010', '18:45:00', 'F9 v1.0  B0003', 'CCAFS LC-40', 'Dragon Spacecraft Qualification Unit', 0, 'LEO', 'SpaceX', 'Success', 'Failure (parachute)')\n",
            "('08-12-2010', '15:43:00', 'F9 v1.0  B0004', 'CCAFS LC-40', 'Dragon demo flight C1, two CubeSats, barrel of Brouere cheese', 0, 'LEO (ISS)', 'NASA (COTS) NRO', 'Success', 'Failure (parachute)')\n",
            "('22-05-2012', '07:44:00', 'F9 v1.0  B0005', 'CCAFS LC-40', 'Dragon demo flight C2', 525, 'LEO (ISS)', 'NASA (COTS)', 'Success', 'No attempt')\n",
            "('08-10-2012', '00:35:00', 'F9 v1.0  B0006', 'CCAFS LC-40', 'SpaceX CRS-1', 500, 'LEO (ISS)', 'NASA (CRS)', 'Success', 'No attempt')\n",
            "('01-03-2013', '15:10:00', 'F9 v1.0  B0007', 'CCAFS LC-40', 'SpaceX CRS-2', 677, 'LEO (ISS)', 'NASA (CRS)', 'Success', 'No attempt')\n"
          ]
        }
      ],
      "source": [
        "query = \"\"\"\n",
        "    SELECT *\n",
        "    FROM spacextbl\n",
        "    WHERE launch_site LIKE 'CCA%'\n",
        "    LIMIT 5\n",
        "    \"\"\"\n",
        "\n",
        "cur.execute(query)\n",
        "items = cur.fetchall()\n",
        "\n",
        "for i in items:\n",
        "    print(i)"
      ]
    },
    {
      "cell_type": "markdown",
      "metadata": {
        "id": "PUg-qlNcIeYl"
      },
      "source": [
        "### Task 3\n",
        "\n",
        "##### Display the total payload mass carried by boosters launched by NASA (CRS)\n"
      ]
    },
    {
      "cell_type": "code",
      "execution_count": null,
      "metadata": {
        "colab": {
          "base_uri": "https://localhost:8080/"
        },
        "id": "6IpCA1SvIeYm",
        "outputId": "4b0d3be1-bb87-4ca8-c358-ec279d3ab35c"
      },
      "outputs": [
        {
          "output_type": "stream",
          "name": "stdout",
          "text": [
            "('NASA (CRS)', 45596)\n"
          ]
        }
      ],
      "source": [
        "query = \"\"\"\n",
        "    SELECT customer, SUM(payload_mass__kg_)\n",
        "    FROM spacextbl\n",
        "    GROUP BY customer\n",
        "    HAVING customer = 'NASA (CRS)'\n",
        "    \"\"\"\n",
        "\n",
        "cur.execute(query)\n",
        "items = cur.fetchall()\n",
        "\n",
        "for i in items:\n",
        "    print(i)"
      ]
    },
    {
      "cell_type": "markdown",
      "metadata": {
        "id": "9TlzksaZIeYm"
      },
      "source": [
        "### Task 4\n",
        "\n",
        "##### Display average payload mass carried by booster version F9 v1.1\n"
      ]
    },
    {
      "cell_type": "code",
      "execution_count": null,
      "metadata": {
        "colab": {
          "base_uri": "https://localhost:8080/"
        },
        "id": "tSXd9Mr7IeYm",
        "outputId": "6f8b79c6-85f8-48e6-fda3-3da8a6b34f7c"
      },
      "outputs": [
        {
          "output_type": "stream",
          "name": "stdout",
          "text": [
            "('F9 v1.1', 2928.4)\n"
          ]
        }
      ],
      "source": [
        "query = \"\"\"\n",
        "    SELECT booster_version, AVG(payload_mass__kg_)\n",
        "    FROM spacextbl\n",
        "    GROUP BY booster_version\n",
        "    HAVING booster_version = 'F9 v1.1'\n",
        "    \"\"\"\n",
        "\n",
        "cur.execute(query)\n",
        "items = cur.fetchall()\n",
        "\n",
        "for i in items:\n",
        "    print(i)"
      ]
    },
    {
      "cell_type": "markdown",
      "metadata": {
        "id": "H867mg1xIeYm"
      },
      "source": [
        "### Task 5\n",
        "\n",
        "##### List the date when the first succesful landing outcome in ground pad was acheived.\n",
        "\n",
        "*Hint: Use min function*\n"
      ]
    },
    {
      "cell_type": "code",
      "execution_count": null,
      "metadata": {
        "colab": {
          "base_uri": "https://localhost:8080/"
        },
        "id": "A6NMpJiPIeYn",
        "outputId": "d3b20622-80d7-43a9-c834-df1737e59a43"
      },
      "outputs": [
        {
          "output_type": "stream",
          "name": "stdout",
          "text": [
            "('01-05-2017', 'Success (ground pad)')\n"
          ]
        }
      ],
      "source": [
        "query = \"\"\"\n",
        "    SELECT MIN(date), \"Landing _Outcome\"\n",
        "    FROM spacextbl\n",
        "    GROUP BY \"Landing _Outcome\"\n",
        "    HAVING \"Landing _Outcome\" = 'Success (ground pad)'\n",
        "    \"\"\"\n",
        "\n",
        "cur.execute(query)\n",
        "items = cur.fetchall()\n",
        "\n",
        "for i in items:\n",
        "    print(i)"
      ]
    },
    {
      "cell_type": "markdown",
      "metadata": {
        "id": "NEfrPnObIeYn"
      },
      "source": [
        "### Task 6\n",
        "\n",
        "##### List the names of the boosters which have success in drone ship and have payload mass greater than 4000 but less than 6000\n"
      ]
    },
    {
      "cell_type": "code",
      "execution_count": null,
      "metadata": {
        "colab": {
          "base_uri": "https://localhost:8080/"
        },
        "id": "bZvEQ2vaIeYn",
        "outputId": "805bd62d-fca7-4bb0-db3b-e6b3c9d16d05"
      },
      "outputs": [
        {
          "output_type": "stream",
          "name": "stdout",
          "text": [
            "('F9 FT B1022', 4696, 'Success (drone ship)')\n",
            "('F9 FT B1026', 4600, 'Success (drone ship)')\n",
            "('F9 FT  B1021.2', 5300, 'Success (drone ship)')\n",
            "('F9 FT  B1031.2', 5200, 'Success (drone ship)')\n"
          ]
        }
      ],
      "source": [
        "query = \"\"\"\n",
        "    SELECT booster_version, payload_mass__kg_, \"Landing _Outcome\"\n",
        "    FROM spacextbl\n",
        "    WHERE \"Landing _Outcome\" = 'Success (drone ship)'\n",
        "        AND payload_mass__kg_ > 4000\n",
        "        AND payload_mass__kg_ < 6000\n",
        "    \"\"\"\n",
        "\n",
        "cur.execute(query)\n",
        "items = cur.fetchall()\n",
        "\n",
        "for i in items:\n",
        "    print(i)"
      ]
    },
    {
      "cell_type": "markdown",
      "metadata": {
        "id": "aDfDM3a9IeYo"
      },
      "source": [
        "### Task 7\n",
        "\n",
        "##### List the total number of successful and failure mission outcomes\n"
      ]
    },
    {
      "cell_type": "code",
      "execution_count": null,
      "metadata": {
        "colab": {
          "base_uri": "https://localhost:8080/"
        },
        "id": "B_s6iXGUIeYo",
        "outputId": "45782518-9fc4-465b-9889-8baf1fde27da"
      },
      "outputs": [
        {
          "output_type": "stream",
          "name": "stdout",
          "text": [
            "('Failure (in flight)', 1)\n",
            "('Success', 98)\n",
            "('Success ', 1)\n",
            "('Success (payload status unclear)', 1)\n"
          ]
        }
      ],
      "source": [
        "query = \"\"\"\n",
        "    SELECT mission_outcome, COUNT(*)\n",
        "    FROM spacextbl\n",
        "    GROUP BY mission_outcome\n",
        "    \"\"\"\n",
        "\n",
        "cur.execute(query)\n",
        "items = cur.fetchall()\n",
        "\n",
        "for i in items:\n",
        "    print(i)"
      ]
    },
    {
      "cell_type": "markdown",
      "metadata": {
        "id": "bCNVcgl-IeYo"
      },
      "source": [
        "### Task 8\n",
        "\n",
        "##### List the   names of the booster_versions which have carried the maximum payload mass. Use a subquery\n"
      ]
    },
    {
      "cell_type": "code",
      "execution_count": null,
      "metadata": {
        "colab": {
          "base_uri": "https://localhost:8080/"
        },
        "id": "z0zLwQFQIeYo",
        "outputId": "c27f64f3-993d-424e-83ca-8903a16c4c3a"
      },
      "outputs": [
        {
          "output_type": "stream",
          "name": "stdout",
          "text": [
            "('F9 B5 B1048.4',)\n",
            "('F9 B5 B1049.4',)\n",
            "('F9 B5 B1051.3',)\n",
            "('F9 B5 B1056.4',)\n",
            "('F9 B5 B1048.5',)\n",
            "('F9 B5 B1051.4',)\n",
            "('F9 B5 B1049.5',)\n",
            "('F9 B5 B1060.2 ',)\n",
            "('F9 B5 B1058.3 ',)\n",
            "('F9 B5 B1051.6',)\n",
            "('F9 B5 B1060.3',)\n",
            "('F9 B5 B1049.7 ',)\n"
          ]
        }
      ],
      "source": [
        "query = \"\"\"\n",
        "    SELECT booster_version\n",
        "    FROM spacextbl\n",
        "    WHERE payload_mass__kg_ = (\n",
        "        SELECT MAX(payload_mass__kg_)\n",
        "        FROM spacextbl\n",
        "    )\n",
        "    \"\"\"\n",
        "\n",
        "cur.execute(query)\n",
        "items = cur.fetchall()\n",
        "\n",
        "for i in items:\n",
        "    print(i)"
      ]
    },
    {
      "cell_type": "markdown",
      "metadata": {
        "id": "6_QGjZ1cIeYo"
      },
      "source": [
        "### Task 9\n",
        "\n",
        "##### List the records which will display the month names, failure landing_outcomes in drone ship ,booster versions, launch_site for the months in year 2015.\n",
        "\n",
        "**Note: SQLLite does not support monthnames. So you need to use  substr(Date, 4, 2) as month to get the months and substr(Date,7,4)='2015' for year.**\n"
      ]
    },
    {
      "cell_type": "code",
      "execution_count": null,
      "metadata": {
        "colab": {
          "base_uri": "https://localhost:8080/"
        },
        "id": "RHeMDegSIeYp",
        "outputId": "cdd6188d-d809-43aa-e767-a707fc56b410"
      },
      "outputs": [
        {
          "output_type": "stream",
          "name": "stdout",
          "text": [
            "('10-01-2015', '01', 'CCAFS LC-40', 'F9 v1.1 B1012', 'Failure (drone ship)')\n",
            "('14-04-2015', '04', 'CCAFS LC-40', 'F9 v1.1 B1015', 'Failure (drone ship)')\n",
            "('17-01-2016', '01', 'VAFB SLC-4E', 'F9 v1.1 B1017', 'Failure (drone ship)')\n",
            "('04-03-2016', '03', 'CCAFS LC-40', 'F9 FT B1020', 'Failure (drone ship)')\n",
            "('15-06-2016', '06', 'CCAFS LC-40', 'F9 FT B1024', 'Failure (drone ship)')\n"
          ]
        }
      ],
      "source": [
        "query = \"\"\"\n",
        "    SELECT date, substr(Date, 4, 2), launch_site, booster_version, \"Landing _Outcome\"\n",
        "    FROM spacextbl\n",
        "    WHERE \"Landing _Outcome\" = 'Failure (drone ship)'\n",
        "    \"\"\"\n",
        "\n",
        "cur.execute(query)\n",
        "items = cur.fetchall()\n",
        "\n",
        "for i in items:\n",
        "    print(i)"
      ]
    },
    {
      "cell_type": "markdown",
      "metadata": {
        "id": "5sBvvSvgIeYp"
      },
      "source": [
        "### Task 10\n",
        "\n",
        "##### Rank the  count of  successful landing_outcomes between the date 04-06-2010 and 20-03-2017 in descending order.\n"
      ]
    },
    {
      "cell_type": "code",
      "execution_count": null,
      "metadata": {
        "colab": {
          "base_uri": "https://localhost:8080/"
        },
        "id": "d29AN0duIeYp",
        "outputId": "94275e64-c411-4f51-da61-33bbc829d3a5"
      },
      "outputs": [
        {
          "output_type": "stream",
          "name": "stdout",
          "text": [
            "('2020', 24)\n",
            "('2018', 20)\n",
            "('2017', 18)\n",
            "('2019', 11)\n"
          ]
        }
      ],
      "source": [
        "query = \"\"\"\n",
        "    SELECT substr(date, 7, 4) AS year, COUNT(\"Landing _Outcome\") AS clo\n",
        "    FROM spacextbl\n",
        "    GROUP BY year\n",
        "    HAVING \"Landing _Outcome\" LIKE ('Success%')\n",
        "        AND date >= '04-06-2010'\n",
        "        AND date <= '20-03-2017'\n",
        "    ORDER BY clo DESC\n",
        "    \"\"\"\n",
        "\n",
        "cur.execute(query)\n",
        "items = cur.fetchall()\n",
        "\n",
        "for i in items:\n",
        "    print(i)"
      ]
    },
    {
      "cell_type": "code",
      "execution_count": null,
      "metadata": {
        "id": "z41bLlXqIeYp"
      },
      "outputs": [],
      "source": [
        "con.close()"
      ]
    },
    {
      "cell_type": "markdown",
      "metadata": {
        "id": "2KwC6lbCIeYp"
      },
      "source": [
        "### Reference Links\n",
        "\n",
        "*   <a href =\"https://cf-courses-data.s3.us.cloud-object-storage.appdomain.cloud/IBMDeveloperSkillsNetwork-DB0201EN-SkillsNetwork/labs/Labs_Coursera_V5/labs/Lab%20-%20String%20Patterns%20-%20Sorting%20-%20Grouping/instructional-labs.md.html?utm_medium=Exinfluencer&utm_source=Exinfluencer&utm_content=000026UJ&utm_term=10006555&utm_id=NA-SkillsNetwork-Channel-SkillsNetworkCoursesIBMDS0321ENSkillsNetwork26802033-2022-01-01&origin=www.coursera.org\">Hands-on Lab : String Patterns, Sorting and Grouping</a>\n",
        "\n",
        "*   <a  href=\"https://cf-courses-data.s3.us.cloud-object-storage.appdomain.cloud/IBMDeveloperSkillsNetwork-DB0201EN-SkillsNetwork/labs/Labs_Coursera_V5/labs/Lab%20-%20Built-in%20functions%20/Hands-on_Lab__Built-in_Functions.md.html?utm_medium=Exinfluencer&utm_source=Exinfluencer&utm_content=000026UJ&utm_term=10006555&utm_id=NA-SkillsNetwork-Channel-SkillsNetworkCoursesIBMDS0321ENSkillsNetwork26802033-2022-01-01&origin=www.coursera.org\">Hands-on Lab: Built-in functions</a>\n",
        "\n",
        "*   <a  href=\"https://cf-courses-data.s3.us.cloud-object-storage.appdomain.cloud/IBMDeveloperSkillsNetwork-DB0201EN-SkillsNetwork/labs/Labs_Coursera_V5/labs/Lab%20-%20Sub-queries%20and%20Nested%20SELECTs%20/instructional-labs.md.html?utm_medium=Exinfluencer&utm_source=Exinfluencer&utm_content=000026UJ&utm_term=10006555&utm_id=NA-SkillsNetwork-Channel-SkillsNetworkCoursesIBMDS0321ENSkillsNetwork26802033-2022-01-01&origin=www.coursera.org\">Hands-on Lab : Sub-queries and Nested SELECT Statements</a>\n",
        "\n",
        "*   <a href=\"https://cf-courses-data.s3.us.cloud-object-storage.appdomain.cloud/IBMDeveloperSkillsNetwork-DB0201EN-SkillsNetwork/labs/Module%205/DB0201EN-Week3-1-3-SQLmagic.ipynb?utm_medium=Exinfluencer&utm_source=Exinfluencer&utm_content=000026UJ&utm_term=10006555&utm_id=NA-SkillsNetwork-Channel-SkillsNetworkCoursesIBMDS0321ENSkillsNetwork26802033-2022-01-01\">Hands-on Tutorial: Accessing Databases with SQL magic</a>\n",
        "\n",
        "*   <a href= \"https://cf-courses-data.s3.us.cloud-object-storage.appdomain.cloud/IBMDeveloperSkillsNetwork-DB0201EN-SkillsNetwork/labs/Module%205/DB0201EN-Week3-1-4-Analyzing.ipynb?utm_medium=Exinfluencer&utm_source=Exinfluencer&utm_content=000026UJ&utm_term=10006555&utm_id=NA-SkillsNetwork-Channel-SkillsNetworkCoursesIBMDS0321ENSkillsNetwork26802033-2022-01-01\">Hands-on Lab: Analyzing a real World Data Set</a>\n"
      ]
    },
    {
      "cell_type": "markdown",
      "metadata": {
        "id": "BFyJ2kFUIeYp"
      },
      "source": [
        "## Author(s)\n",
        "\n",
        "<h4> Lakshmi Holla </h4>\n"
      ]
    },
    {
      "cell_type": "markdown",
      "metadata": {
        "id": "9bJFQ3NwIeYq"
      },
      "source": [
        "## Other Contributors\n",
        "\n",
        "<h4> Rav Ahuja </h4>\n"
      ]
    },
    {
      "cell_type": "markdown",
      "metadata": {
        "id": "dIhvsEkwIeYq"
      },
      "source": [
        "## Change log\n",
        "\n",
        "| Date       | Version | Changed by    | Change Description        |\n",
        "| ---------- | ------- | ------------- | ------------------------- |\n",
        "| 2021-07-09 | 0.2     | Lakshmi Holla | Changes made in magic sql |\n",
        "| 2021-05-20 | 0.1     | Lakshmi Holla | Created Initial Version   |\n"
      ]
    },
    {
      "cell_type": "markdown",
      "metadata": {
        "id": "NiTLxlrfIeYq"
      },
      "source": [
        "## <h3 align=\"center\"> © IBM Corporation 2021. All rights reserved. <h3/>\n"
      ]
    }
  ],
  "metadata": {
    "kernelspec": {
      "display_name": "Python",
      "language": "python",
      "name": "conda-env-python-py"
    },
    "language_info": {
      "codemirror_mode": {
        "name": "ipython",
        "version": 3
      },
      "file_extension": ".py",
      "mimetype": "text/x-python",
      "name": "python",
      "nbconvert_exporter": "python",
      "pygments_lexer": "ipython3",
      "version": "3.7.12"
    },
    "colab": {
      "provenance": [],
      "include_colab_link": true
    }
  },
  "nbformat": 4,
  "nbformat_minor": 0
}