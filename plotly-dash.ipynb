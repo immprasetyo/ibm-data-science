{
  "nbformat": 4,
  "nbformat_minor": 0,
  "metadata": {
    "colab": {
      "provenance": [],
      "authorship_tag": "ABX9TyOfrkmYJAr1hGXjY4vcg+51",
      "include_colab_link": true
    },
    "kernelspec": {
      "name": "python3",
      "display_name": "Python 3"
    },
    "language_info": {
      "name": "python"
    }
  },
  "cells": [
    {
      "cell_type": "markdown",
      "metadata": {
        "id": "view-in-github",
        "colab_type": "text"
      },
      "source": [
        "<a href=\"https://colab.research.google.com/github/immprasetyo/ibm-data-science/blob/main/plotly-dash.ipynb\" target=\"_parent\"><img src=\"https://colab.research.google.com/assets/colab-badge.svg\" alt=\"Open In Colab\"/></a>"
      ]
    },
    {
      "cell_type": "markdown",
      "source": [
        "# Launch Sites Locations Analysis with Plotly"
      ],
      "metadata": {
        "id": "WlnRxedGZjd9"
      }
    },
    {
      "cell_type": "markdown",
      "source": [
        "The launch success rate may depend on many factors such as payload mass, orbit type, and so on. It may also depend on the location and proximities of a launch site, i.e., the initial position of rocket trajectories. Finding an optimal location for building a launch site certainly involves many factors and hopefully we could discover some of the factors by analyzing the existing launch site locations"
      ],
      "metadata": {
        "id": "vUM1gjkAZnbX"
      }
    },
    {
      "cell_type": "code",
      "source": [
        "#python3 -m pip install pandas dash\n",
        "#wget 'https://cf-courses-data.s3.us.cloud-object-storage.appdomain.cloud/IBM-DS0321EN-SkillsNetwork/datasets/spacex_launch_dash.csv'\n",
        "#wget 'https://cf-courses-data.s3.us.cloud-object-storage.appdomain.cloud/IBM-DS0321EN-SkillsNetwork/labs/module_3/spacex_dash_app.py'"
      ],
      "metadata": {
        "id": "9gdXG7VdZ3OR"
      },
      "execution_count": null,
      "outputs": []
    },
    {
      "cell_type": "code",
      "source": [
        "# Import required libraries\n",
        "import pandas as pd\n",
        "import dash\n",
        "import dash_html_components as html\n",
        "import dash_core_components as dcc\n",
        "import plotly.express as px\n",
        "from dash.dependencies import Input, Output"
      ],
      "metadata": {
        "id": "ZntWJ5lwZ5wG"
      },
      "execution_count": null,
      "outputs": []
    },
    {
      "cell_type": "code",
      "source": [
        "# Read the airline data into pandas dataframe\n",
        "spacex_df = pd.read_csv('spacex_launch_dash.csv')\n",
        "max_payload = spacex_df['Payload Mass (kg)'].max()\n",
        "min_payload = spacex_df['Payload Mass (kg)'].min()"
      ],
      "metadata": {
        "id": "fj2eiXqaZ-za"
      },
      "execution_count": null,
      "outputs": []
    },
    {
      "cell_type": "code",
      "source": [
        "# Create a dash application\n",
        "app = dash.Dash(__name__)"
      ],
      "metadata": {
        "id": "8uIn7JA3aEje"
      },
      "execution_count": null,
      "outputs": []
    },
    {
      "cell_type": "code",
      "source": [
        "# Create an app layout\n",
        "app.layout = html.Div(\n",
        "    children = [\n",
        "        html.H1(\n",
        "            'SpaceX Launch Records Dashboard',\n",
        "            style = {\n",
        "                'textAlign': 'center',\n",
        "                'color': 'darkseagreen',\n",
        "                'font-size': 40\n",
        "            }\n",
        "        ),\n",
        "        \n",
        "        # TASK 1: Add a dropdown list to enable Launch Site selection\n",
        "        # The default select value is for ALL sites\n",
        "        dcc.Dropdown(\n",
        "            id = 'site-dropdown',\n",
        "            options = [\n",
        "                {'label': 'ALL SITES', 'value': 'ALL'},\n",
        "                {'label': 'CCAFS LC-40', 'value': 'CCAFS LC-40'},\n",
        "                {'label': 'CCAFS SLC-40', 'value': 'CCAFS SLC-40'},\n",
        "                {'label': 'KSC LC-39A', 'value': 'KSC LC-39A'},\n",
        "                {'label': 'VAFB SLC-4E\t', 'value': 'VAFB SLC-4E'}\n",
        "            ],\n",
        "            value = 'ALL',\n",
        "            placeholder = 'Select a Launch Site here',\n",
        "            searchable = True\n",
        "        ),\n",
        "        html.Br(),\n",
        "        \n",
        "        # TASK 2: Add a pie chart to show the total successful launches count for all sites\n",
        "        # If a specific launch site was selected, show the Success vs. Failed counts for the site\n",
        "        html.Div(dcc.Graph(id = 'success-pie-chart')),\n",
        "        html.Br(),\n",
        "        html.P('Payload range (Kg):'),\n",
        "        \n",
        "        # TASK 3: Add a slider to select payload range\n",
        "        dcc.RangeSlider(\n",
        "            id = 'payload-slider',\n",
        "            min = 0,\n",
        "            max = 10000,\n",
        "            step = 1000,\n",
        "            marks = {\n",
        "                0: '0',\n",
        "                2000: '2000',\n",
        "                4000: '4000',\n",
        "                6000: '6000',\n",
        "                8000: '8000',\n",
        "                10000: '10000'\n",
        "            },\n",
        "            value = [min_payload, max_payload]\n",
        "        ),\n",
        "        \n",
        "        # TASK 4: Add a scatter chart to show the correlation between payload and launch success\n",
        "        html.Div(dcc.Graph(id = 'success-payload-scatter-plot'))\n",
        "    ]\n",
        ")"
      ],
      "metadata": {
        "id": "aJrvQqohaJEv"
      },
      "execution_count": null,
      "outputs": []
    },
    {
      "cell_type": "code",
      "source": [
        "# TASK 2:\n",
        "# Add a callback function for `site-dropdown` as input, `success-pie-chart` as output\n",
        "@app.callback(\n",
        "    Output(component_id = 'success-pie-chart', component_property = 'figure'), [\n",
        "        Input(component_id = 'site-dropdown', component_property = 'value')\n",
        "    ]\n",
        ")"
      ],
      "metadata": {
        "id": "354NFP1jaQrj"
      },
      "execution_count": null,
      "outputs": []
    },
    {
      "cell_type": "code",
      "source": [
        "def get_pie_chart(entered_site):\n",
        "    if entered_site == 'ALL':\n",
        "        ax = px.pie(\n",
        "            spacex_df,\n",
        "            values = 'Landing Outcome',\n",
        "            names = 'Launch Site',\n",
        "            title = 'Total Success Outcomes by Site'\n",
        "        )\n",
        "        return ax\n",
        "    \n",
        "    else:\n",
        "        df1 = spacex_df[spacex_df['Launch Site'] == entered_site]\n",
        "        df1 = df1.groupby('Landing Outcome').size().reset_index(name = 'Class Count')\n",
        "        ax = px.pie(\n",
        "            df1,\n",
        "            values = 'Class Count',\n",
        "            names = 'Landing Outcome',\n",
        "            title = 'Total Success Outcomes by %s' % entered_site\n",
        "        )\n",
        "        return ax"
      ],
      "metadata": {
        "id": "abC5GrnuaVCU"
      },
      "execution_count": null,
      "outputs": []
    },
    {
      "cell_type": "code",
      "source": [
        "# TASK 4:\n",
        "# Add a callback function for `site-dropdown` and `payload-slider` as inputs, `success-payload-scatter-chart` as output\n",
        "@app.callback(\n",
        "    Output(component_id = 'success-payload-scatter-plot', component_property = 'figure'), [\n",
        "        Input(component_id = 'site-dropdown', component_property = 'value'),\n",
        "        Input(component_id = 'payload-slider', component_property = 'value')\n",
        "    ]\n",
        ")"
      ],
      "metadata": {
        "id": "KDv92UnpagHN"
      },
      "execution_count": null,
      "outputs": []
    },
    {
      "cell_type": "code",
      "source": [
        "def get_scatter_plot(entered_site, slider_range):\n",
        "    low, high = slider_range\n",
        "    if entered_site == 'ALL':\n",
        "        mask = (spacex_df['Payload Mass (kg)'] > low) & (spacex_df['Payload Mass (kg)'] < high)\n",
        "        ax = px.scatter(\n",
        "            spacex_df[mask],\n",
        "            x = 'Payload Mass (kg)',\n",
        "            y = 'Landing Outcome',\n",
        "            color = 'Booster Version Category',\n",
        "            title = 'Correlation between Payload and Success for All Sites'\n",
        "        )\n",
        "        return ax\n",
        "    \n",
        "    else:\n",
        "        df2 = spacex_df[spacex_df['Launch Site'] == entered_site]\n",
        "        mask = (df2['Payload Mass (kg)'] > low) & (df2['Payload Mass (kg)'] < high)\n",
        "        ax = px.scatter(\n",
        "            df2[mask],\n",
        "            x = 'Payload Mass (kg)',\n",
        "            y = 'Landing Outcome',\n",
        "            color = 'Booster Version Category',\n",
        "            title = 'Correlation between Payload and Success for %s' % entered_site\n",
        "        )\n",
        "        return ax"
      ],
      "metadata": {
        "id": "vuCC_LcfajWf"
      },
      "execution_count": null,
      "outputs": []
    },
    {
      "cell_type": "code",
      "source": [
        "# Run the app\n",
        "if __name__ == '__main__':\n",
        "    app.run_server()"
      ],
      "metadata": {
        "id": "rVo9z9UtassR"
      },
      "execution_count": null,
      "outputs": []
    },
    {
      "cell_type": "code",
      "source": [
        "#python3 spacex_dash_app.py"
      ],
      "metadata": {
        "id": "lJmEoHg2avf6"
      },
      "execution_count": null,
      "outputs": []
    }
  ]
}